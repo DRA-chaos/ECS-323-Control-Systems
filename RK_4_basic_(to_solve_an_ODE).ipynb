{
  "nbformat": 4,
  "nbformat_minor": 0,
  "metadata": {
    "colab": {
      "name": "RK-4 basic (to solve an ODE).ipynb",
      "provenance": [],
      "authorship_tag": "ABX9TyPECVYJopBXIUxEeyIolX5l",
      "include_colab_link": true
    },
    "kernelspec": {
      "name": "python3",
      "display_name": "Python 3"
    },
    "language_info": {
      "name": "python"
    }
  },
  "cells": [
    {
      "cell_type": "markdown",
      "metadata": {
        "id": "view-in-github",
        "colab_type": "text"
      },
      "source": [
        "<a href=\"https://colab.research.google.com/github/DRA-chaos/ECS-323-Control-Systems/blob/main/RK_4_basic_(to_solve_an_ODE).ipynb\" target=\"_parent\"><img src=\"https://colab.research.google.com/assets/colab-badge.svg\" alt=\"Open In Colab\"/></a>"
      ]
    },
    {
      "cell_type": "code",
      "metadata": {
        "id": "FEmmcyBgwsv-"
      },
      "source": [
        ""
      ],
      "execution_count": null,
      "outputs": []
    },
    {
      "cell_type": "markdown",
      "metadata": {
        "id": "GeTiPNoTwu8z"
      },
      "source": [
        "Runge-Kutta 4th order , a simple implementation"
      ]
    },
    {
      "cell_type": "code",
      "metadata": {
        "colab": {
          "base_uri": "https://localhost:8080/"
        },
        "id": "Pa7N0jYAw0Mn",
        "outputId": "02cfd3ec-8e7e-45c6-de69-cf2d54d792cb"
      },
      "source": [
        "# Python program to implement Runge Kutta method\n",
        "# A sample differential equation \"dy / dx = (x + y)/2\"\n",
        "def dydx(x, y):\n",
        "\treturn ((x + y)/2)   #define your DE here\n",
        "\n",
        "# For a given x using step size h find value of y \n",
        "# initial value pair y0 at x0.\n",
        "def rk(x0, y0, x, h):\n",
        "\t# Count number of iterations using h\n",
        "\tn = (int)((x - x0)/h)\n",
        "\t# Iterate for n using for loop\n",
        "\ty = y0\n",
        "\tfor i in range(1, n + 1):\n",
        "\t\n",
        "\t\tk1 = h * dydx(x0, y)\n",
        "\t\tk2 = h * dydx(x0 + 0.5 * h, y + 0.5 * k1)\n",
        "\t\tk3 = h * dydx(x0 + 0.5 * h, y + 0.5 * k2)\n",
        "\t\tk4 = h * dydx(x0 + h, y + k3)\n",
        "\n",
        "\t\n",
        "\t\ty = y + (1.0 / 6.0)*(k1 + 2 * k2 + 2 * k3 + k4)\n",
        "\n",
        "\t\n",
        "\t\tx0 = x0 + h\n",
        "\treturn y\n",
        "\n",
        "\n",
        "x0 = 0\n",
        "y = 1\n",
        "x = 2\n",
        "h = 0.2\n",
        "print('The value of y at x is:', rk(x0, y, x, h))\n",
        "\n",
        "\n"
      ],
      "execution_count": 4,
      "outputs": [
        {
          "output_type": "stream",
          "text": [
            "The value of y at x is: 4.154839232405497\n"
          ],
          "name": "stdout"
        }
      ]
    }
  ]
}